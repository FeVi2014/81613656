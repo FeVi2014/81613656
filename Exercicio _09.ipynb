{
 "cells": [
  {
   "cell_type": "markdown",
   "metadata": {},
   "source": [
    "# . Felipe Videira 81613656 SI3AN-MCA1\n"
   ]
  },
  {
   "cell_type": "markdown",
   "metadata": {},
   "source": [
    "#1. Faça um Programa que peça dois números e imprima o maior deles.\n"
   ]
  },
  {
   "cell_type": "code",
   "execution_count": 1,
   "metadata": {},
   "outputs": [
    {
     "name": "stdout",
     "output_type": "stream",
     "text": [
      "Digite um numero: 3\n",
      "Digite outro numero \n",
      "o maior numero digitado é o numero !!!!!!!! 3\n"
     ]
    }
   ],
   "source": [
    "n1 = int(input(\"Digite um numero: \"))\n",
    "n2 = int(input(\"Digite outro numero\"))\n",
    "if n1 > n2:\n",
    "    print(f\"o maior numero digitado é o numero !!!!!!!! {n1}\")\n",
    "else:\n",
    "    print(f\"O maior numero digitado é o numero!!!!!!!!! {n2}\")"
   ]
  },
  {
   "cell_type": "markdown",
   "metadata": {},
   "source": [
    "#2. Faça um Programa que verifique se uma letra digitada é vogal ou consoante.\n"
   ]
  },
  {
   "cell_type": "code",
   "execution_count": 2,
   "metadata": {},
   "outputs": [
    {
     "name": "stdout",
     "output_type": "stream",
     "text": [
      "Digite uma letra: a\n",
      "A letra \"a\" é uma Vogal!!\n"
     ]
    }
   ],
   "source": [
    "letraDigit = input(\"Digite uma letra: \")\n",
    "lista = [\"a\",\"e\",\"i\",\"o\",\"u\"]\n",
    "if letraDigit in lista:\n",
    "    print(f'A letra \"{letraDigit}\" é uma Vogal!!')\n",
    "else:\n",
    "    print(f'A letra \"{letraDigit}\" é uma Consoante!!')"
   ]
  },
  {
   "cell_type": "markdown",
   "metadata": {},
   "source": [
    "#3. Faça um programa para a leitura de duas notas parciais de um aluno. O programa\n",
    "deve calcular a média alcançada por aluno e apresentar:\n",
    "- A mensagem \"Aprovado\", se a média alcançada for maior ou igual a sete;\n",
    "- A mensagem \"Reprovado\", se a média for menor do que sete;\n",
    "- A mensagem \"Aprovado com Distinção\", se a média for igual a dez."
   ]
  },
  {
   "cell_type": "code",
   "execution_count": 3,
   "metadata": {},
   "outputs": [
    {
     "name": "stdout",
     "output_type": "stream",
     "text": [
      "Digite a primeira nota: 20\n",
      "Digite a segunda nota1\n",
      "Aprovado\n"
     ]
    }
   ],
   "source": [
    "nota1 = float(input(\"Digite a primeira nota: \"))\n",
    "nota2 = float(input(\"Digite a segunda nota\"))\n",
    "media = (nota1+nota2)/2\n",
    "if media == 10:\n",
    "    print(\"Aprovado com distinção\")\n",
    "elif media>6<10:\n",
    "     print(\"Aprovado\")\n",
    "else:\n",
    "    print(\"Reprovado\")"
   ]
  },
  {
   "cell_type": "markdown",
   "metadata": {},
   "source": [
    "4 Faça um Programa que leia três números e mostre-os em ordem decrescente."
   ]
  },
  {
   "cell_type": "code",
   "execution_count": 4,
   "metadata": {},
   "outputs": [
    {
     "name": "stdout",
     "output_type": "stream",
     "text": [
      "3 2 1\n",
      "3 2 1\n",
      "3 2 1\n",
      "3 2 1\n",
      "3 2 1\n",
      "3 2 1\n"
     ]
    }
   ],
   "source": [
    "lista =[(1,2,3), (1,3,2), (2,1,3), (2,3,1), (3,1,2), (3,2,1)]\n",
    "\n",
    "for n1,n2,n3 in lista:\n",
    "    if n1 > n2 and n1 > n3:\n",
    "        if n2 > n3:\n",
    "            print(f'{n1} {n2} {n3}')\n",
    "        else:\n",
    "            print (f'{n1} {n3} {n2}')\n",
    "    elif n2 > n1 and n2 > n3:\n",
    "            if n1 > n3:\n",
    "                print (f'{n2} {n1} {n3}')\n",
    "            else:\n",
    "                print (f'{n2} {n3} {n1}')\n",
    "    else:\n",
    "                if n1 > n2:\n",
    "                    print (f'{n3} {n1} {n2}')\n",
    "                else:\n",
    "                    print (f'{n3} {n2} {n1}')\n",
    "            \n",
    "            "
   ]
  },
  {
   "cell_type": "markdown",
   "metadata": {},
   "source": [
    "#5. As Organizações Tabajara resolveram dar um aumento de salário aos seus\n",
    "colaboradores e lhe contrataram para desenvolver o programa que calculará os\n",
    "reajustes.\n",
    "Faça um programa que recebe o salário de um colaborador e o reajuste segundo o\n",
    "seguinte critério, baseado no salário atual:\n",
    "- salários até R$ 280,00 (incluindo) : aumento de 20%\n",
    "- salários entre R$ 280,00 e R$ 700,00 : aumento de 15%\n",
    "- salários entre R$ 700,00 e R$ 1500,00 : aumento de 10%\n",
    "- salários de R$ 1500,00 em diante : aumento de 5% Após o aumento ser realizado,\n",
    "informe na tela:\n",
    "- o salário antes do reajuste;\n",
    "- o percentual de aumento aplicado;\n",
    "- o valor do aumento;\n",
    "- o novo salário, após o aumento"
   ]
  },
  {
   "cell_type": "code",
   "execution_count": 7,
   "metadata": {},
   "outputs": [
    {
     "name": "stdout",
     "output_type": "stream",
     "text": [
      "Informe o salário do colaborador sem a virgula ANIMAL R$ 400.00\n",
      "Antes do reajuste R$400.0\n",
      "Percentual do aumento aplicado: 15%\n",
      "O valor do aumento foi R$60.0\n",
      "O novo salario é de 460.0\n"
     ]
    }
   ],
   "source": [
    "salario = float(input(\"Informe o salário do colaborador sem a virgula ANIMAL R$ \"))\n",
    "\n",
    "percentualAumento20 = 20\n",
    "percentualAumento15 = 15\n",
    "percentualAumento10 = 10\n",
    "percentualAumento5 =  5\n",
    "\n",
    "valorAumento20 = (salario*percentualAumento20)/100\n",
    "valorAumento15 = (salario*percentualAumento15)/100\n",
    "valorAumento10 = (salario*percentualAumento10)/100\n",
    "valorAumento5 = (salario*percentualAumento5)/100\n",
    "\n",
    "novo_salario20 = valorAumento20+salario\n",
    "novo_salario15 = valorAumento15+salario\n",
    "novo_salario10 = valorAumento10+salario\n",
    "novo_salario5 = valorAumento5+salario\n",
    "\n",
    "if salario<280.00:\n",
    "    print(f\"Antes do reajuste R${salario}\\nPercentual do aumento aplicado: {percentualAumento20}%\\nO valor do aumento foi R${valorAumento20}\\nO novo salario é de {novo_salario20}\")\n",
    "elif salario>280.00<700.00:\n",
    "    print(f\"Antes do reajuste R${salario}\\nPercentual do aumento aplicado: {percentualAumento15}%\\nO valor do aumento foi R${valorAumento15}\\nO novo salario é de {novo_salario15}\")\n",
    "elif salario>700<1500:\n",
    "    print(f\"Antes do reajuste R${salario}\\nPercentual do aumento aplicado: {percentualAumento10}%\\nO valor do aumento foi R${valorAumento10}\\nO novo salario é de {novo_salario10}\")\n",
    "else:\n",
    "    print(f\"Antes do reajuste R${salario}\\nPercentual do aumento aplicado: {percentualAumento5}%\\nO valor do aumento foi R${valorAumento5}\\nO novo salario é de {novo_salario5}\")"
   ]
  },
  {
   "cell_type": "markdown",
   "metadata": {},
   "source": [
    "#6. Faça um Programa que leia um número e exiba o dia correspondente da semana.\n",
    "(1-Domingo, 2- Segunda, etc.), se digitar outro valor deve aparecer valor inválido."
   ]
  },
  {
   "cell_type": "code",
   "execution_count": 8,
   "metadata": {},
   "outputs": [
    {
     "name": "stdout",
     "output_type": "stream",
     "text": [
      "Digite um numero para obter o dia da semana correspondente: 3\n",
      "O dia da semana correspondente é:Terça\n"
     ]
    }
   ],
   "source": [
    "dia = int(input(\"Digite um numero para obter o dia da semana correspondente: \"))\n",
    "lista = [\"valor inválido\",\"Domingo\",\"Segunda\",\"Terça\",\"Quarta\",\"Quinta\",\"Sexta\",\"Sabado\"]\n",
    "if dia<7:\n",
    "    print(f\"O dia da semana correspondente é:{lista[dia]}\" )\n",
    "else:\n",
    "    print(f\"Valor invalido\" )"
   ]
  },
  {
   "cell_type": "markdown",
   "metadata": {},
   "source": [
    "#7. Faça um programa que lê as duas notas parciais obtidas por um aluno numa\n",
    "disciplina ao longo de um semestre, e calcule a sua média. A atribuição de conceitos\n",
    "obedece à tabela abaixo:\n",
    "\n",
    "Média de Aproveitamento Conceito\n",
    " Entre 9.0 e 10.0 A\n",
    " Entre 7.5 e 9.0 B\n",
    " Entre 6.0 e 7.5 C\n",
    " Entre 4.0 e 6.0 D\n",
    " Entre 4.0 e zero E"
   ]
  },
  {
   "cell_type": "code",
   "execution_count": 9,
   "metadata": {
    "scrolled": true
   },
   "outputs": [
    {
     "name": "stdout",
     "output_type": "stream",
     "text": [
      "Digite o nome do aluno: Felipe\n",
      "Digite a primeira nota de 0 à 10: 6\n",
      "Digite a segunda nota de 0 à 10: 6\n",
      "O(a) aluno(a) Felipe teve 6.0 na primeira nota e 6.0 na segunda nota.\n",
      "Obtendo assim 6.0 de média e conceito\"D\", portanto está REPROVADO\n"
     ]
    }
   ],
   "source": [
    "nome = input(\"Digite o nome do aluno: \")\n",
    "nota1 = float(input(\"Digite a primeira nota de 0 à 10: \"))\n",
    "nota2 = float(input(\"Digite a segunda nota de 0 à 10: \"))\n",
    "media = float((nota1+nota2)/2)\n",
    "if media >9<10:\n",
    "    print(f'O(a) aluno(a) {nome} teve {nota1} na primeira nota e {nota2} na segunda nota.\\nObtendo assim {media:.1f} de média e conceito\"A\", portanto está APROVADO')\n",
    "elif media>7.5<=9:\n",
    "    print(f'O(a) aluno(a) {nome} teve {nota1} na primeira nota e {nota2} na segunda nota.\\nObtendo assim {media:.1f} de média e conceito\"B\", portanto está APROVADO')\n",
    "elif media>6<=7.5:\n",
    "    print(f'O(a) aluno(a) {nome} teve {nota1} na primeira nota e {nota2} na segunda nota.\\nObtendo assim {media:.1f} de média e conceito\"C\", portanto está APROVADO')\n",
    "elif media>4<=6:\n",
    "    print(f'O(a) aluno(a) {nome} teve {nota1} na primeira nota e {nota2} na segunda nota.\\nObtendo assim {media:.1f} de média e conceito\"D\", portanto está REPROVADO')\n",
    "else:\n",
    "    print(f'O(a) aluno(a) {nome} teve {nota1} na primeira nota e {nota2} na segunda nota.\\nObtendo assim {media:.1f} de média e conceito\"E\", portanto está REPROVADO')"
   ]
  },
  {
   "cell_type": "markdown",
   "metadata": {},
   "source": [
    "#8. Faça um Programa que peça os 3 lados de um triângulo. O programa deverá\n",
    "informar se os valores podem ser um triângulo. Indique, caso os lados formem um\n",
    "triângulo, se o mesmo é: equilátero, isósceles ou escaleno.\n",
    "Dicas:\n",
    "- Três lados formam um triângulo quando a soma de quaisquer dois lados for maior\n",
    "que o terceiro;\n",
    "- Triângulo Equilátero: três lados iguais;\n",
    "- Triângulo Isósceles: quaisquer dois lados iguais;\n",
    "- Triângulo Escaleno: três lados diferentes;"
   ]
  },
  {
   "cell_type": "code",
   "execution_count": 10,
   "metadata": {},
   "outputs": [
    {
     "name": "stdout",
     "output_type": "stream",
     "text": [
      "Informe o tamanho do primeiro lado: 3\n",
      "Informe o segundo lado: 3\n",
      "Informe o terceiro lado: 3\n",
      "Triângulo Equilátero\n"
     ]
    }
   ],
   "source": [
    "lado1 = input('Informe o tamanho do primeiro lado: ')\n",
    "lado2 = input('Informe o segundo lado: ')\n",
    "lado3 = input('Informe o terceiro lado: ')\n",
    "\n",
    "if lado1 == lado2 and lado1 == lado3:\n",
    "    print ('Triângulo Equilátero')\n",
    "elif lado1 == lado2 or lado2 == lado3 or lado1 == lado3:\n",
    "    print ('Triângulo Isósceles')\n",
    "elif lado1 != lado2 and lado3 or lado2 != lado1 and l3 or lado1 != lado3:\n",
    "    print ('Triângulo Escaleno')\n",
    "else:\n",
    "    print ('É impossivel ser um triângulo')"
   ]
  },
  {
   "cell_type": "markdown",
   "metadata": {},
   "source": [
    "#9. Faça um programa que calcule as raízes de uma equação do segundo grau, na\n",
    "forma ax2 + bx + c. O programa deverá pedir os valores de a, b e c e fazer as\n",
    "consistências, informando ao usuário nas seguintes situações:\n",
    "- Se o usuário informar o valor de A igual a zero, a equação não é do segundo grau e\n",
    "o programa não deve fazer pedir os demais valores, sendo encerrado;\n",
    "- Se o delta calculado for negativo, a equação não possui raizes reais. Informe ao\n",
    "usuário e encerre o programa;\n",
    "- Se o delta calculado for igual a zero a equação possui apenas uma raiz real;\n",
    "informe-a ao usuário;\n",
    "- Se o delta for positivo, a equação possui duas raiz reais; informe-as ao usuário;\n"
   ]
  },
  {
   "cell_type": "code",
   "execution_count": 11,
   "metadata": {},
   "outputs": [
    {
     "name": "stdout",
     "output_type": "stream",
     "text": [
      "Digite o valor de A: 10\n",
      "Digite o valor de B: 9\n",
      "Digite o valor de C: 8\n",
      "Aequação não possui raizes reais pois o delta resulta em -239 \n",
      "-239\n"
     ]
    }
   ],
   "source": [
    "a = int(input(\"Digite o valor de A: \"))\n",
    "b = int(input(\"Digite o valor de B: \"))\n",
    "c = int(input(\"Digite o valor de C: \"))\n",
    "\n",
    "delta = (b**2)-(4*a*c)\n",
    "if a == 0:\n",
    "    print(f\"equação não é do segundo grau\")\n",
    "elif delta <0:\n",
    "    print(f\"Aequação não possui raizes reais pois o delta resulta em {delta} \")\n",
    "elif delta == 0:\n",
    "    print(f\"A equação resulta em delta : {delta} e possui apenas uma raiz real\")\n",
    "elif delta > 0:\n",
    "    print(f\"A equação resulta em delta {delta} e possui duas raizes reais\")\n",
    "\n",
    "print(delta)"
   ]
  },
  {
   "cell_type": "markdown",
   "metadata": {},
   "source": [
    "#10. Faça um Programa para um caixa eletrônico. O programa deverá perguntar ao\n",
    "usuário a valor do saque e depois informar quantas notas de cada valor serão\n",
    "fornecidas. As notas disponíveis serão as de 1, 5, 10, 50 e 100 reais. O valor mínimo é\n",
    "de 10 reais e o máximo de 600 reais. O programa não deve se preocupar com a\n",
    "quantidade de notas existentes na máquina.\n",
    "- Exemplo 1: Para sacar a quantia de 256 reais, o programa fornece duas notas de\n",
    "100, uma nota de 50, uma nota de 5 e uma nota de 1;\n",
    "- Exemplo 2: Para sacar a quantia de 399 reais, o programa fornece três notas de\n",
    "100, uma nota de 50, quatro notas de 10, uma nota de 5 e quatro notas de 1."
   ]
  },
  {
   "cell_type": "code",
   "execution_count": 12,
   "metadata": {},
   "outputs": [
    {
     "name": "stdout",
     "output_type": "stream",
     "text": [
      "Digite o valor a ser sacado (entre 10 e 600 reais): R$ 300\n",
      "3 nota(s) de cem\n"
     ]
    }
   ],
   "source": [
    "numero = input(\"Digite o valor a ser sacado (entre 10 e 600 reais): R$ \")\n",
    "numeroStr = str(numero)\n",
    "qtNumero = len(numeroStr)\n",
    "nota100 = \"nota(s) de cem\"\n",
    "nota50 = \"nota(s) de cinquenta\"\n",
    "nota10 = \"nota(s) de dez\"\n",
    "nota5 = \"nota(s) de cinco\"\n",
    "nota1 = \"nota(s) de um\"\n",
    " \n",
    "if qtNumero == 3:\n",
    "    centena = int(numeroStr[0:1])\n",
    "    dezena = int(numeroStr[1:2])\n",
    "    unidade = int(numeroStr[2:3])\n",
    "    print (centena, nota100)\n",
    "    if 0 < dezena < 5:\n",
    "        print (dezena, nota10)\n",
    "    if dezena == 5:\n",
    "        print (\"1\", nota50)\n",
    "    if dezena > 5:\n",
    "        print (\"1\", nota50)\n",
    "        print ((dezena - 5), nota10)\n",
    "    if 0 < unidade < 5:\n",
    "        print (unidade, nota1)\n",
    "    if unidade == 5:\n",
    "        print (unidade, nota5)\n",
    "    if unidade > 5:\n",
    "        print (\"1\", nota5)\n",
    "        print ((unidade - 5), nota1)"
   ]
  },
  {
   "cell_type": "markdown",
   "metadata": {},
   "source": [
    "#11.Faça um programa que faça 5 perguntas para uma pessoa sobre um crime. As perguntas são:\n",
    "\n",
    "Telefonou para a vítima?\"\n",
    "Esteve no local do crime?\"\n",
    "Mora perto da vítima?\"\n",
    "Devia para a vítima?\"\n",
    "Já trabalhou com a vítima?\"\n",
    "O programa deve no final emitir uma classificação sobre a participação da pessoa no crime. Se a pessoa responder positivamente a 2 questões ela deve ser classificadacomo \"Suspeita\", entre 3 e 4 como \"Cúmplice\" e 5 como \"Assassino\". Caso contrário,ele será classificado como \"Inocente\""
   ]
  },
  {
   "cell_type": "code",
   "execution_count": 21,
   "metadata": {},
   "outputs": [
    {
     "name": "stdout",
     "output_type": "stream",
     "text": [
      "1)Telefonou para a vítima?\n",
      "--Digite sim ou não: sim\n",
      "2)Esteve no local do crime?\n",
      "--Digite sim ou não: nao\n",
      "3)Mora perto da vítima?\n",
      "--Digite sim ou não: sim\n",
      "4)Devia para a vítima?\n",
      "--Digite sim ou não: nao\n",
      "5)Já trabalhou com a vítima?\n",
      "--Digite sim ou não: sim\n",
      "Cumplice\n"
     ]
    }
   ],
   "source": [
    "p1 = input(\"1)Telefonou para a vítima?\\n--Digite sim ou não: \")\n",
    "p2 = input(\"2)Esteve no local do crime?\\n--Digite sim ou não: \")\n",
    "p3 = input(\"3)Mora perto da vítima?\\n--Digite sim ou não: \")\n",
    "p4 = input(\"4)Devia para a vítima?\\n--Digite sim ou não: \")\n",
    "p5 = input(\"5)Já trabalhou com a vítima?\\n--Digite sim ou não: \")\n",
    "\n",
    "lista = [p1,p2,p3,p4,p5]\n",
    "resultado = lista.count(\"sim\")\n",
    "if resultado ==2:\n",
    "    print(\"Suspeito\")\n",
    "elif resultado ==3 or resultado ==4:\n",
    "    print(\"Cumplice\") \n",
    "elif resultado ==5:\n",
    "    print(\"Assassino\")\n",
    "else:\n",
    "    print(\"Inocente\")\n",
    "   \n",
    "    \n"
   ]
  },
  {
   "cell_type": "markdown",
   "metadata": {},
   "source": [
    "#12. Uma fruteira está vendendo frutas com a seguinte tabela de preços:\n",
    " Até 5 Kg Acima de 5 Kg\n",
    "Morango R$ 2,50 por Kg R$ 2,20 por Kg\n",
    "Maçã R$ 1,80 por Kg R$ 1,50 por Kg\n",
    "Se o cliente comprar mais de 8 Kg em frutas ou o valor total da compra ultrapassar\n",
    "R$ 25,00, receberá ainda um desconto de 10% sobre este total. Escreva um\n",
    "algoritmo para ler a quantidade (em Kg) de morangos e a quantidade (em Kg) de\n",
    "maças adquiridas e escreva o valor a ser pago pelo cliente"
   ]
  },
  {
   "cell_type": "code",
   "execution_count": 26,
   "metadata": {},
   "outputs": [
    {
     "name": "stdout",
     "output_type": "stream",
     "text": [
      "Digite o peso do morango: 6\n",
      "Digite o peso da maca: 7\n",
      "O total a ser pago ficou no valor de: R$ 18.36\n"
     ]
    }
   ],
   "source": [
    "peso_morango = float(input(\"Digite o peso do morango: \"))\n",
    "peso_maca = float(input(\"Digite o peso da maca: \"))\n",
    "\n",
    "if peso_morango <=5:\n",
    "    valor_morango = peso_morango*2.5\n",
    "else:\n",
    "    valor_morango = peso_morango*2.2\n",
    "        \n",
    "if peso_maca <=5:\n",
    "    valor_maca = peso_maca*1.8\n",
    "else:\n",
    "    peso_maca = peso_maca*1.5\n",
    "    \n",
    "total_peso = peso_morango + peso_maca    \n",
    "total_valor = valor_morango + valor_maca    \n",
    "\n",
    "if total_peso >8 or total_valor >25:\n",
    "    total_total = total_valor-((total_valor*10)/100)\n",
    "else:\n",
    "    total_total = total_total\n",
    "\n",
    "print(f\"O total a ser pago ficou no valor de: R$ {total_total:.2f}\")"
   ]
  },
  {
   "cell_type": "markdown",
   "metadata": {},
   "source": [
    "#13. Faça um programa que peça uma nota, entre zero e dez. Mostre uma mensagem\n",
    "caso o valor seja inválido e continue pedindo até que o usuário informe um valor\n",
    "válido"
   ]
  },
  {
   "cell_type": "code",
   "execution_count": 27,
   "metadata": {},
   "outputs": [
    {
     "name": "stdout",
     "output_type": "stream",
     "text": [
      "Digite uma nota de 0 à 10: 20\n",
      "Digite uma nota de 0 à 10: 20\n",
      "Digite uma nota de 0 à 10: 20\n",
      "Digite uma nota de 0 à 10: 20\n",
      "Digite uma nota de 0 à 10: 20\n",
      "Digite uma nota de 0 à 10: 20\n",
      "Digite uma nota de 0 à 10: 10\n",
      "O número 10 está no intervalo!\n"
     ]
    }
   ],
   "source": [
    "nota = int(input(\"Digite uma nota de 0 à 10: \"))\n",
    "while 0 > nota or 10 < nota:\n",
    "    nota = int(input(\"Digite uma nota de 0 à 10: \"))\n",
    "else:\n",
    "    print(\"O número\",nota,\"está no intervalo!\")"
   ]
  },
  {
   "cell_type": "markdown",
   "metadata": {},
   "source": [
    "#13-1 Faça um programa que leia e valide as seguintes informações:\n",
    "Nome: maior que 3 caracteres;\n",
    "Idade: entre 0 e 150;\n",
    "Salário: maior que zero;\n",
    "Sexo: 'f' ou 'm';\n",
    "Estado Civil: 's', 'c', 'v', 'd';"
   ]
  },
  {
   "cell_type": "code",
   "execution_count": 28,
   "metadata": {},
   "outputs": [
    {
     "name": "stdout",
     "output_type": "stream",
     "text": [
      "Digite seu nome: Felipe\n",
      "Digite sua idade: 21\n",
      "Digite seu salario: 0\n",
      "Digite seu salario: 500\n",
      "Digite seu sexo m (masculino) ou f (feminino): m\n",
      "Digite seu estado civil s (solteiro), c (casado), v (viuvo) ou d (divorciado): s\n"
     ]
    }
   ],
   "source": [
    "nome = \"a\"\n",
    "while len(nome) <= 3:\n",
    "    nome = input(\"Digite seu nome: \")\n",
    "\n",
    "idade = -1\n",
    "while idade < 0 or idade > 150:\n",
    "    idade = int(input(\"Digite sua idade: \"))\n",
    "\n",
    "salario = 0\n",
    "while salario <= 0:\n",
    "    salario = float(input(\"Digite seu salario: \"))\n",
    "\n",
    "sexo = \"p\"\n",
    "while sexo != \"f\" and sexo != \"m\":\n",
    "    sexo = input(\"Digite seu sexo m (masculino) ou f (feminino): \")\n",
    "\n",
    "estadoCivil = \"n\"\n",
    "while estadoCivil != \"s\" and estadoCivil != \"c\" and estadoCivil != \"v\" and estadoCivil != \"d\":\n",
    "    estadoCivil = input(\"Digite seu estado civil s (solteiro), c (casado), v (viuvo) ou d (divorciado): \")"
   ]
  },
  {
   "cell_type": "markdown",
   "metadata": {},
   "source": [
    "#14. Faça um programa que leia 5 números e informe o maior número."
   ]
  },
  {
   "cell_type": "code",
   "execution_count": 29,
   "metadata": {},
   "outputs": [
    {
     "name": "stdout",
     "output_type": "stream",
     "text": [
      "Digite o Primeiro número: 3\n",
      "Digite o Segundo número: 1\n",
      "Digite o Terceiro número: 2\n",
      "Digite o Quarto número: 10\n",
      "Digite o Quinto número: 4\n",
      "O maior número é 10\n"
     ]
    }
   ],
   "source": [
    "lista = []\n",
    "\n",
    "while True:\n",
    "    lista.append(int(input('Digite o Primeiro número: ')))\n",
    "    lista.append(int(input('Digite o Segundo número: ')))\n",
    "    lista.append(int(input('Digite o Terceiro número: ')))\n",
    "    lista.append(int(input('Digite o Quarto número: ')))\n",
    "    lista.append(int(input('Digite o Quinto número: ')))\n",
    "    break\n",
    "\n",
    "print(\"O maior número é\", max(lista))"
   ]
  },
  {
   "cell_type": "markdown",
   "metadata": {},
   "source": [
    "#15. Faça um programa que leia 5 números e informe a soma e a média dos números."
   ]
  },
  {
   "cell_type": "code",
   "execution_count": 30,
   "metadata": {},
   "outputs": [
    {
     "name": "stdout",
     "output_type": "stream",
     "text": [
      "Digite o Primeiro número: 2\n",
      "Digite o Segundo número: 2\n",
      "Digite o Terceiro número: 2\n",
      "Digite o Quarto número: 2\n",
      "Digite o Quinto número: 2\n",
      "A soma dos números é 10\n",
      "A média é 2.0\n"
     ]
    }
   ],
   "source": [
    "lista = []\n",
    "\n",
    "while True:\n",
    "    lista.append(int(input('Digite o Primeiro número: ')))\n",
    "    lista.append(int(input('Digite o Segundo número: ')))\n",
    "    lista.append(int(input('Digite o Terceiro número: ')))\n",
    "    lista.append(int(input('Digite o Quarto número: ')))\n",
    "    lista.append(int(input('Digite o Quinto número: ')))\n",
    "    break\n",
    "    \n",
    "soma = sum(lista)\n",
    "media = soma/5\n",
    "\n",
    "print(\"A soma dos números é\", soma)\n",
    "print(\"A média é\", media)"
   ]
  },
  {
   "cell_type": "markdown",
   "metadata": {},
   "source": [
    "#16.Faça um programa que imprima na tela apenas os números ímpares entre 1 e 50."
   ]
  },
  {
   "cell_type": "code",
   "execution_count": 31,
   "metadata": {},
   "outputs": [
    {
     "name": "stdout",
     "output_type": "stream",
     "text": [
      "1\n",
      "3\n",
      "5\n",
      "7\n",
      "9\n",
      "11\n",
      "13\n",
      "15\n",
      "17\n",
      "19\n",
      "21\n",
      "23\n",
      "25\n",
      "27\n",
      "29\n",
      "31\n",
      "33\n",
      "35\n",
      "37\n",
      "39\n",
      "41\n",
      "43\n",
      "45\n",
      "47\n",
      "49\n"
     ]
    }
   ],
   "source": [
    "for i in range(1,50):\n",
    "    if i % 2 != 0:\n",
    "        print(i)\n",
    "        i += 1"
   ]
  },
  {
   "cell_type": "markdown",
   "metadata": {},
   "source": [
    "#17.Desenvolva um gerador de tabuada, capaz de gerar a tabuada de qualquer número inteiro entre 1 a 10. O usuário deve informar de qual numero ele deseja ver a tabuada. A saída deve ser conforme o exemplo abaixo: Tabuada de 5: 5 X 1 = 5 5 X 2 = 10 ... 5 X 10 = 50"
   ]
  },
  {
   "cell_type": "code",
   "execution_count": 32,
   "metadata": {},
   "outputs": [
    {
     "name": "stdout",
     "output_type": "stream",
     "text": [
      "Digite o número da tabuada: 4\n",
      "4 X 1 = 4\n",
      "4 X 2 = 8\n",
      "4 X 3 = 12\n",
      "4 X 4 = 16\n",
      "4 X 5 = 20\n",
      "4 X 6 = 24\n",
      "4 X 7 = 28\n",
      "4 X 8 = 32\n",
      "4 X 9 = 36\n",
      "4 X 10 = 40\n"
     ]
    }
   ],
   "source": [
    "tab = int(input('Digite o número da tabuada: '))  \n",
    "inicio = 1\n",
    "while(inicio <= 10):\n",
    "    print(\"{0} X {1} = {2}\".format(tab, inicio, (inicio * tab)))\n",
    "    inicio += 1"
   ]
  },
  {
   "cell_type": "markdown",
   "metadata": {},
   "source": [
    "#18.A série de Fibonacci formada pela seqüência 1,1,2,3,5,8,13,21,34,55,... Faça um programa capaz de gerar a série até o n−ésimo termo."
   ]
  },
  {
   "cell_type": "code",
   "execution_count": 35,
   "metadata": {},
   "outputs": [
    {
     "name": "stdout",
     "output_type": "stream",
     "text": [
      "Digite até qual termo deseja: 5\n",
      "1\n",
      "1\n",
      "2\n",
      "3\n",
      "5\n"
     ]
    }
   ],
   "source": [
    "termo = 0\n",
    "while (termo <= 0):\n",
    "    termo = int(input(\"Digite até qual termo deseja: \"))\n",
    "    if (termo <= 0):\n",
    "        print(\"O termo deve ser positivo!\")\n",
    "\n",
    "primeiro = 1\n",
    "print (primeiro)\n",
    "segundo = 1\n",
    "for i in range(1, termo):\n",
    "    print(segundo)\n",
    "    terceiro = primeiro + segundo\n",
    "    primeiro = segundo\n",
    "    segundo = terceiro"
   ]
  },
  {
   "cell_type": "markdown",
   "metadata": {},
   "source": [
    "##19. Faça um programa que calcule o fatorial de um número inteiro fornecido pelo\n",
    "usuário. Ex.: 5!=5.4.3.2.1=120\n",
    "\n"
   ]
  },
  {
   "cell_type": "code",
   "execution_count": 22,
   "metadata": {},
   "outputs": [
    {
     "name": "stdout",
     "output_type": "stream",
     "text": [
      "Informe um número para calcular o fatorial:  5\n",
      "O fatorial do numero :5 é: 120\n"
     ]
    }
   ],
   "source": [
    "n=int(input(\"Informe um número para calcular o fatorial:  \"))\n",
    "\n",
    "fatorial =1\n",
    "i =1\n",
    "while i<=n:\n",
    "    fatorial *=i\n",
    "    i+=1\n",
    "print(f'O fatorial do numero :{n} é: {fatorial}')"
   ]
  },
  {
   "cell_type": "markdown",
   "metadata": {},
   "source": [
    "#20.O Sr. Manoel Joaquim possui uma grande loja de artigos de R$ 1,99, com cerca de 10 caixas. Para agilizar o cálculo de quanto cada cliente deve pagar ele desenvolveu um tabela que contém o número de itens que o cliente comprou e ao lado o valor da conta. Desta forma a atendente do caixa precisa apenas contar quantos itens o cliente está levando e olhar na tabela de preços. Você foi contratado para desenvolver o programa que monta esta tabela de preços, que conterá os preços de 1 até 50 produtos, conforme o exemplo abaixo:\n",
    "Lojas Quase Dois - Tabela de preços 1 - R\n",
    "1.992−R\n",
    "1.992−R\n",
    " 3.98 ... 50 - R$ 99.50\n",
    " "
   ]
  },
  {
   "cell_type": "code",
   "execution_count": 38,
   "metadata": {},
   "outputs": [
    {
     "name": "stdout",
     "output_type": "stream",
     "text": [
      "Digite um numero3\n",
      "Lojas Quase Dois - Tabelas de preços\n",
      "01 - R$ 1.99\n",
      "02 - R$ 3.98\n",
      "03 - R$ 5.97\n",
      "04 - R$ 7.96\n",
      "05 - R$ 9.95\n",
      "06 - R$ 11.94\n",
      "07 - R$ 13.93\n",
      "08 - R$ 15.92\n",
      "09 - R$ 17.91\n",
      "10 - R$ 19.90\n",
      "11 - R$ 21.89\n",
      "12 - R$ 23.88\n",
      "13 - R$ 25.87\n",
      "14 - R$ 27.86\n",
      "15 - R$ 29.85\n",
      "16 - R$ 31.84\n",
      "17 - R$ 33.83\n",
      "18 - R$ 35.82\n",
      "19 - R$ 37.81\n",
      "20 - R$ 39.80\n",
      "21 - R$ 41.79\n",
      "22 - R$ 43.78\n",
      "23 - R$ 45.77\n",
      "24 - R$ 47.76\n",
      "25 - R$ 49.75\n",
      "26 - R$ 51.74\n",
      "27 - R$ 53.73\n",
      "28 - R$ 55.72\n",
      "29 - R$ 57.71\n",
      "30 - R$ 59.70\n",
      "31 - R$ 61.69\n",
      "32 - R$ 63.68\n",
      "33 - R$ 65.67\n",
      "34 - R$ 67.66\n",
      "35 - R$ 69.65\n",
      "36 - R$ 71.64\n",
      "37 - R$ 73.63\n",
      "38 - R$ 75.62\n",
      "39 - R$ 77.61\n",
      "40 - R$ 79.60\n",
      "41 - R$ 81.59\n",
      "42 - R$ 83.58\n",
      "43 - R$ 85.57\n",
      "44 - R$ 87.56\n",
      "45 - R$ 89.55\n",
      "46 - R$ 91.54\n",
      "47 - R$ 93.53\n",
      "48 - R$ 95.52\n",
      "49 - R$ 97.51\n",
      "50 - R$ 99.50\n"
     ]
    }
   ],
   "source": [
    "\n",
    "x =int(input(\"Digite um numero\"))\n",
    "valor = 1.99\n",
    "\n",
    "print(\"Lojas Quase Dois - Tabelas de preços\")\n",
    "\n",
    "for x in range(1,51):\n",
    "    print(\"%02.d - R$ %.2f\" % (x,x*valor))\n",
    "    x += 1"
   ]
  },
  {
   "cell_type": "markdown",
   "metadata": {},
   "source": [
    "#21.O Sr. Manoel Joaquim acaba de adquirir uma panificadora e pretende implantar a metodologia da tabelinha, que já é um sucesso na sua loja de 1,99. Você foi contratado para desenvolver o programa que monta a tabela de preços de pães, de 1 até 50 pães, a partir do preço do pão informado pelo usuário, conforme o exemplo abaixo: Preço do pão: R\n",
    "0.18PanificadoraPãodeOntem−Tabeladepreços1−R\n",
    "0.18PanificadoraPãodeOntem−Tabeladepreços1−R\n",
    " 0.18 2 - R\n",
    "0.36...50−R\n",
    "0.36...50−R\n",
    " 9.00"
   ]
  },
  {
   "cell_type": "code",
   "execution_count": 39,
   "metadata": {},
   "outputs": [
    {
     "name": "stdout",
     "output_type": "stream",
     "text": [
      "Panificadora Pão de Ontem - Tabela de preços\n",
      "01 - R$ 0.18\n",
      "02 - R$ 0.36\n",
      "03 - R$ 0.54\n",
      "04 - R$ 0.72\n",
      "05 - R$ 0.90\n",
      "06 - R$ 1.08\n",
      "07 - R$ 1.26\n",
      "08 - R$ 1.44\n",
      "09 - R$ 1.62\n",
      "10 - R$ 1.80\n",
      "11 - R$ 1.98\n",
      "12 - R$ 2.16\n",
      "13 - R$ 2.34\n",
      "14 - R$ 2.52\n",
      "15 - R$ 2.70\n",
      "16 - R$ 2.88\n",
      "17 - R$ 3.06\n",
      "18 - R$ 3.24\n",
      "19 - R$ 3.42\n",
      "20 - R$ 3.60\n",
      "21 - R$ 3.78\n",
      "22 - R$ 3.96\n",
      "23 - R$ 4.14\n",
      "24 - R$ 4.32\n",
      "25 - R$ 4.50\n",
      "26 - R$ 4.68\n",
      "27 - R$ 4.86\n",
      "28 - R$ 5.04\n",
      "29 - R$ 5.22\n",
      "30 - R$ 5.40\n",
      "31 - R$ 5.58\n",
      "32 - R$ 5.76\n",
      "33 - R$ 5.94\n",
      "34 - R$ 6.12\n",
      "35 - R$ 6.30\n",
      "36 - R$ 6.48\n",
      "37 - R$ 6.66\n",
      "38 - R$ 6.84\n",
      "39 - R$ 7.02\n",
      "40 - R$ 7.20\n",
      "41 - R$ 7.38\n",
      "42 - R$ 7.56\n",
      "43 - R$ 7.74\n",
      "44 - R$ 7.92\n",
      "45 - R$ 8.10\n",
      "46 - R$ 8.28\n",
      "47 - R$ 8.46\n",
      "48 - R$ 8.64\n",
      "49 - R$ 8.82\n",
      "50 - R$ 9.00\n"
     ]
    }
   ],
   "source": [
    "x = 1\n",
    "valor = 0.18\n",
    "\n",
    "print(\"Panificadora Pão de Ontem - Tabela de preços\")\n",
    "\n",
    "for x in range(1,51):\n",
    "    print(\"%02.d - R$ %.2f\" % (x,x*valor))\n",
    "    x += 1"
   ]
  },
  {
   "cell_type": "markdown",
   "metadata": {},
   "source": [
    "22.O Sr. Manoel Joaquim expandiu seus negócios para além dos negócios de 1,99 e agora possui uma loja de conveniências. Faça um programa que implemente uma caixa registradora rudimentar. O programa deverá receber um número desconhecido de valores referentes aos preços das mercadorias. Um valor zero deve ser informado pelo operador para indicar o final da compra. O programa deve então mostrar o total da compra e perguntar o valor em dinheiro que o cliente forneceu, para então calcular e mostrar o valor do troco. Após esta operação, o programa deverá voltar ao ponto inicial, para registrar a próxima compra. A saída deve ser conforme o exemplo abaixo: Lojas Tabajara Produto 1: R 2.20Produto2:R 2.20Produto2:R 5.80 Produto 3: R 0Total:R 0Total:R 9.00 Dinheiro: R 20.00Troco:R 20.00Troco:R 11.00 ..."
   ]
  },
  {
   "cell_type": "code",
   "execution_count": 42,
   "metadata": {},
   "outputs": [
    {
     "name": "stdout",
     "output_type": "stream",
     "text": [
      "Lojas Tabajara\n",
      "Produto 1: R$ 20.00\n",
      "Produto 2: R$ 20.00\n",
      "Produto 3: R$ 2\n",
      "Produto 4: R$ 3\n",
      "Produto 5: R$ 4\n",
      "Produto 6: R$ 1\n",
      "Produto 7: R$ \n"
     ]
    },
    {
     "ename": "ValueError",
     "evalue": "could not convert string to float: ",
     "output_type": "error",
     "traceback": [
      "\u001b[1;31m---------------------------------------------------------------------------\u001b[0m",
      "\u001b[1;31mValueError\u001b[0m                                Traceback (most recent call last)",
      "\u001b[1;32m<ipython-input-42-33c75757475e>\u001b[0m in \u001b[0;36m<module>\u001b[1;34m()\u001b[0m\n\u001b[0;32m      6\u001b[0m \u001b[1;33m\u001b[0m\u001b[0m\n\u001b[0;32m      7\u001b[0m \u001b[1;32mwhile\u001b[0m \u001b[1;33m(\u001b[0m\u001b[0mprecoMercadoria\u001b[0m \u001b[1;33m!=\u001b[0m \u001b[1;36m0\u001b[0m\u001b[1;33m)\u001b[0m\u001b[1;33m:\u001b[0m\u001b[1;33m\u001b[0m\u001b[0m\n\u001b[1;32m----> 8\u001b[1;33m     \u001b[0mprecoMercadoria\u001b[0m \u001b[1;33m=\u001b[0m \u001b[0mfloat\u001b[0m\u001b[1;33m(\u001b[0m\u001b[0minput\u001b[0m\u001b[1;33m(\u001b[0m\u001b[1;34m'Produto %d: R$ '\u001b[0m \u001b[1;33m%\u001b[0m \u001b[1;33m(\u001b[0m\u001b[0mquantidade\u001b[0m\u001b[1;33m)\u001b[0m\u001b[1;33m)\u001b[0m\u001b[1;33m)\u001b[0m\u001b[1;33m\u001b[0m\u001b[0m\n\u001b[0m\u001b[0;32m      9\u001b[0m     \u001b[0mquantidade\u001b[0m \u001b[1;33m=\u001b[0m \u001b[0mquantidade\u001b[0m \u001b[1;33m+\u001b[0m \u001b[1;36m1\u001b[0m\u001b[1;33m\u001b[0m\u001b[0m\n\u001b[0;32m     10\u001b[0m     \u001b[0msoma\u001b[0m \u001b[1;33m+=\u001b[0m \u001b[0mprecoMercadoria\u001b[0m\u001b[1;33m\u001b[0m\u001b[0m\n",
      "\u001b[1;31mValueError\u001b[0m: could not convert string to float: "
     ]
    }
   ],
   "source": [
    "soma = 0.00\n",
    "quantidade = 1\n",
    "precoMercadoria = 1\n",
    "\n",
    "print(\"Lojas Tabajara\")\n",
    "\n",
    "while (precoMercadoria != 0):\n",
    "    precoMercadoria = float(input('Produto %d: R$ ' % (quantidade)))\n",
    "    quantidade = quantidade + 1\n",
    "    soma += precoMercadoria\n",
    "\n",
    "print (\"Total: R$ %.2f\" % soma)\n",
    "pagamento = float(input(\"Dinheiro: R$ \"))\n",
    "\n",
    "print (\"Troco: R$ %.2f \\n...\" % (pagamento - soma))"
   ]
  },
  {
   "cell_type": "markdown",
   "metadata": {},
   "source": [
    "23.Foi feita uma estatística em cinco cidades brasileiras para coletar dados sobre acidentes de trânsito. Foram obtidos os seguintes dados:\n",
    "Código da cidade;\n",
    "Número de veículos de passeio (em 1999);\n",
    "Número de acidentes de trânsito com vítimas (em 1999). Deseja-se saber:\n",
    "Qual o maior e menor índice de acidentes de transito e a que cidade pertence;\n",
    "Qual a média de veículos nas cinco cidades juntas;\n",
    "Qual a média de acidentes de trânsito nas cidades com menos de 2.000 veículos de passeio."
   ]
  },
  {
   "cell_type": "code",
   "execution_count": null,
   "metadata": {},
   "outputs": [
    {
     "name": "stdout",
     "output_type": "stream",
     "text": [
      "Informe o código da cidade 1: 2\n",
      "Informe o número de veiculos de passeio (em 1999) da cidade 1: 1000\n",
      "Informe a quantidade de acidentes (em 1999) da cidade 1: 200\n",
      "Informe o código da cidade 2: 3\n",
      "Informe o número de veiculos de passeio (em 1999) da cidade 2: 996\n",
      "Informe a quantidade de acidentes (em 1999) da cidade 2: 100\n",
      "Informe o código da cidade 3: 0200\n",
      "Informe o número de veiculos de passeio (em 1999) da cidade 3: 220\n",
      "Informe a quantidade de acidentes (em 1999) da cidade 3: 21\n"
     ]
    }
   ],
   "source": [
    " somaVeiculos = 0\n",
    "somaAcidentes = 0\n",
    "somaAcidentesMenos2Mil = 0\n",
    "totalCidadesMenos2Mil = 0\n",
    "cidade = 1\n",
    "\n",
    "for i in range(0, 5):\n",
    "    codigo = input(\"Informe o código da cidade %d: \" % cidade)\n",
    "    veiculos = int(input(\"Informe o número de veiculos de passeio (em 1999) da cidade %d: \" % cidade))\n",
    "    acidentes = int(input(\"Informe a quantidade de acidentes (em 1999) da cidade %d: \" % cidade))\n",
    "    cidade += 1\n",
    "    \n",
    "    indiceAcidentes = acidentes / (veiculos)\n",
    "    somaVeiculos += veiculos\n",
    "    \n",
    "    if ('maisAcidentes' not in vars()) or (indiceAcidentes > maisAcidentes):\n",
    "        maisAcidentes = indiceAcidentes\n",
    "        codigoMaisAcidentes = codigo\n",
    "    if ('menosAcidentes' not in vars()) or (indiceAcidentes < menosAcidentes):\n",
    "        menosAcidentes = indiceAcidentes\n",
    "        codigoMenosAcidentes = codigo\n",
    "\n",
    "    if (veiculos < 2000):\n",
    "        somaAcidentesMenos2Mil += acidentes\n",
    "        totalCidadesMenos2Mil += 1\n",
    "\n",
    "print (f\"A cidade com maior indice de acidentes é a cidade {codigoMaisAcidentes} com %.2f\" % (maisAcidentes),\"%\")\n",
    "print (f\"A cidade com menor indice de acidentes é a cidade {codigoMenosAcidentes} com %.2f\" % (menosAcidentes),\"%\")\n",
    "print (\"A media de veiculos nas cidades é %.2f\" % (somaVeiculos / 5.0),\"%\")\n",
    "print (\"A media de acidentes de transito nas cidades com menos de 2.000 veículos é %.2f\" % (somaAcidentesMenos2Mil / (totalCidadesMenos2Mil)),\"%\")"
   ]
  },
  {
   "cell_type": "markdown",
   "metadata": {},
   "source": [
    "#24.Faça um programa que receba o valor de uma dívida e mostre uma tabela com os seguintes dados: valor da dívida, valor dos juros, quantidade de parcelas e valor da parcela. Os juros e a quantidade de parcelas seguem a tabela abaixo: Quantidade de Parcelas % de Juros sobre o valor inicial da dívida 1 0 3 10 6 15 9 20 12 25 Exemplo de saída do programa: Valor da Dívida Valor dos Juros Quantidade de Parcelas Valor da Parcela R 1.000,0001R 1.000,0001R 1.000,00 R 1.100,001003R 1.100,001003R 366,00 R 1.150,001506R 1.150,001506R 191,67"
   ]
  },
  {
   "cell_type": "code",
   "execution_count": null,
   "metadata": {},
   "outputs": [],
   "source": [
    "divida = float(input('Informe o valor da divida: '))\n",
    "\n",
    "print(\"Valor da divida\\tValor dos Juros\\tQuantidade de Parcelas\\tValor da Parcela\")\n",
    "    \n",
    "juros = 0\n",
    "for i in [1, 3, 6, 9, 12]:\n",
    "    valorJuros = (divida * (juros / 100.0))\n",
    "    valorDivida = divida + valorJuros\n",
    "    valorParcela = valorDivida / float(i)\n",
    "    print (\"R$ %.2f \\tR$ %.2f \\t%i \\t\\t\\tR$ %.2f\" % (valorDivida, valorJuros, i, valorParcela))\n",
    "    if (i == 1):\n",
    "        juros = 10\n",
    "    else:\n",
    "        juros += 5"
   ]
  },
  {
   "cell_type": "markdown",
   "metadata": {},
   "source": [
    "## 25. Faça um programa que mostre os n termos da Série a seguir:\n"
   ]
  },
  {
   "cell_type": "code",
   "execution_count": 1,
   "metadata": {},
   "outputs": [
    {
     "name": "stdout",
     "output_type": "stream",
     "text": [
      "6.066627765079777\n",
      "[1, 2, 3, 4, 5, 6, 7, 8, 9, 10]\n",
      "[1, 3, 5, 7, 9, 11, 13, 15, 17, 19]\n",
      "[(1, 1), (2, 3), (3, 5), (4, 7), (5, 9), (6, 11), (7, 13), (8, 15), (9, 17), (10, 19)]\n",
      "6.066627765079777\n"
     ]
    }
   ],
   "source": [
    "n=10\n",
    "num=1\n",
    "den=1\n",
    "soma=0\n",
    "while num<=n:\n",
    "    soma+= num/den\n",
    "    num+=1\n",
    "    den+=2\n",
    "print(soma)\n",
    "\n",
    "n=10\n",
    "num = list(range(1,n+1))\n",
    "print(num)\n",
    "den = list(range(1,(2*n),2))\n",
    "print(den)\n",
    "soma = 0\n",
    "fracao =list(zip(num,den))\n",
    "print (fracao)\n",
    "\n",
    "for i,j in fracao:\n",
    "    soma+=i/j\n",
    "print(soma)\n",
    "\n",
    "n = 10\n",
    "soma=0\n",
    "\n",
    "for i,j in zip(range(i,n+1),range(1,2*(n),2)):\n",
    "    soma += i/j"
   ]
  },
  {
   "cell_type": "code",
   "execution_count": null,
   "metadata": {},
   "outputs": [],
   "source": []
  }
 ],
 "metadata": {
  "kernelspec": {
   "display_name": "Python 3",
   "language": "python",
   "name": "python3"
  },
  "language_info": {
   "codemirror_mode": {
    "name": "ipython",
    "version": 3
   },
   "file_extension": ".py",
   "mimetype": "text/x-python",
   "name": "python",
   "nbconvert_exporter": "python",
   "pygments_lexer": "ipython3",
   "version": "3.6.4"
  }
 },
 "nbformat": 4,
 "nbformat_minor": 2
}
